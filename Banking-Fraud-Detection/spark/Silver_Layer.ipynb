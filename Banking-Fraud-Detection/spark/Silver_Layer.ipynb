{
 "cells": [
  {
   "cell_type": "code",
   "execution_count": null,
   "metadata": {},
   "outputs": [
    {
     "name": "stdout",
     "output_type": "stream",
     "text": [
      "PIPO YAML version : 5.1.1\n",
      "PIPO main config file: /shared/.pipo/main_conf.yml\n",
      "PIPO version: 3.0.1\n"
     ]
    }
   ],
   "source": [
    "#!/usr/bin/env python\n",
    "\n",
    "import os\n",
    "import sys\n",
    "import subprocess\n",
    "from datetime import datetime, timedelta\n",
    "\n",
    "try:\n",
    "    from pyspark import SparkContext, SQLContext, StorageLevel\n",
    "    from pyspark.sql import SparkSession\n",
    "except ImportError:\n",
    "    import findspark\n",
    "    findspark.init()\n",
    "    from pyspark import SparkContext, SQLContext, StorageLevel\n",
    "    from pyspark.sql import SparkSession\n",
    "\n",
    "from pyspark.sql.functions import *\n",
    "from pyspark.sql.types import StringType\n",
    "\n",
    "from log_template import *\n"
   ]
  },
  {
   "cell_type": "code",
   "execution_count": null,
   "metadata": {},
   "outputs": [],
   "source": [
    "from pyspark.sql import functions as F\n",
    "from pyspark.sql.functions import (\n",
    "    split, concat_ws, to_timestamp, col, broadcast,\n",
    "    round as spark_round, lit, udf\n",
    ")\n",
    "from pyspark.sql.types import (\n",
    "    IntegerType, TimestampType, DoubleType\n",
    ")\n",
    "import math\n"
   ]
  },
  {
   "cell_type": "code",
   "execution_count": null,
   "metadata": {},
   "outputs": [],
   "source": [
    "spark = SparkSession.builder \\\n",
    "    .appName(\"Fraud_detect\") \\\n",
    "    .master(\"yarn\") \\\n",
    "    .config(\"spark.sql.csv.inferSchema\", \"true\") \\\n",
    "    .config(\"spark.sql.csv.header\", \"true\") \\\n",
    "    .getOrCreate()\n"
   ]
  },
  {
   "cell_type": "code",
   "execution_count": null,
   "metadata": {},
   "outputs": [],
   "source": [
    "customers = spark.read.csv(\"/user/markous/customer.csv\", header=True)\n",
    "transactions = spark.read.csv(\"/user/markous/transactions.csv\", header=True)\n"
   ]
  },
  {
   "cell_type": "code",
   "execution_count": null,
   "metadata": {},
   "outputs": [
    {
     "name": "stdout",
     "output_type": "stream",
     "text": [
      "+----------------+-------+--------+------+--------------------+--------------+-----+-----+-------+---------+--------------------+--------------------+----+----+\n",
      "|          cc_num|  first|    last|gender|              street|          city|state|  zip|    lat|     long|                 job|                 dob|_c12|_c13|\n",
      "+----------------+-------+--------+------+--------------------+--------------+-----+-----+-------+---------+--------------------+--------------------+----+----+\n",
      "|3526015186182660|   Carl|   Gomez|     M|204 Cohen Meadow ...|Hathaway Pines|   CA|95233|38.1919|-120.3644|Data processing m...|1958-10-12T00:00:...|null|null|\n",
      "|4170242670039980|Rebecca|Trujillo|     F|       242 Cody Pass|      Colstrip|   MT|59323|45.9344|-106.6368|          Air broker|1983-08-09T00:00:...|null|null|\n",
      "|   4006862159277| Cheryl|    Rice|     F|0771 Solis Road A...|      Brooklyn|   NY|11228|40.6174| -74.0121|     Tourism officer|1957-07-24T00:00:...|null|null|\n",
      "|3593533875650650|  Cindy|     Ray|     F|     09110 Marie Run|        Oswego|   IL|60543|41.6849| -88.3453|Magazine features...|1994-12-24T00:00:...|null|null|\n",
      "|5421885738881170| Jeremy|  Torres|     M|   81823 Karen Haven|  Lewis Center|   OH|43035|40.1879| -82.9878|Designer, industr...|1995-11-06T00:00:...|null|null|\n",
      "+----------------+-------+--------+------+--------------------+--------------+-----+-----+-------+---------+--------------------+--------------------+----+----+\n",
      "only showing top 5 rows\n",
      "\n",
      "root\n",
      " |-- cc_num: string (nullable = true)\n",
      " |-- first: string (nullable = true)\n",
      " |-- last: string (nullable = true)\n",
      " |-- gender: string (nullable = true)\n",
      " |-- street: string (nullable = true)\n",
      " |-- city: string (nullable = true)\n",
      " |-- state: string (nullable = true)\n",
      " |-- zip: string (nullable = true)\n",
      " |-- lat: string (nullable = true)\n",
      " |-- long: string (nullable = true)\n",
      " |-- job: string (nullable = true)\n",
      " |-- dob: string (nullable = true)\n",
      " |-- _c12: string (nullable = true)\n",
      " |-- _c13: string (nullable = true)\n",
      "\n"
     ]
    }
   ],
   "source": [
    "customers.show(5)\n",
    "customers.printSchema()\n"
   ]
  },
  {
   "cell_type": "code",
   "execution_count": null,
   "metadata": {
    "scrolled": true
   },
   "outputs": [
    {
     "name": "stdout",
     "output_type": "stream",
     "text": [
      "+----------------+-------+-------+--------------------+--------------------+----------+----------+-------------+--------------------+---+---------+-----------+--------+\n",
      "|          cc_num|  first|   last|           trans_num|          trans_date|trans_time| unix_time|     category|            merchant|amt|merch_lat| merch_long|is_fraud|\n",
      "+----------------+-------+-------+--------------------+--------------------+----------+----------+-------------+--------------------+---+---------+-----------+--------+\n",
      "| 180094108369013|   John|Holland|80f5177be11f0bcd7...|2012-01-01T00:00:...|   0:12:15|1325376735|personal_care|         Hills-Boyer| 64|39.011566|-119.937831|       0|\n",
      "|4368593032190500|  Carla|Fleming|7933d389bf8ef8a11...|2012-01-01T00:00:...|   0:16:58|1325377018|gas_transport|      Friesen-DAmore|133|40.149071| -75.589697|       0|\n",
      "|   4361355512072|Matthew| Nelson|1467c318b5d73d22d...|2012-01-01T00:00:...|   0:36:42|1325378202|entertainment|         Larson-Moen|119|47.297797| -96.819362|       0|\n",
      "|4037295225657270|Antonio| Garcia|4a3848719d72daaa3...|2012-01-01T00:00:...|   0:37:59|1325378279| shopping_pos|           Lynch Ltd| 62|40.078781|-102.373954|       0|\n",
      "|4515092388857440|Timothy|  Silva|02d27e94f279e1013...|2012-01-01T00:00:...|   0:39:18|1325378358| shopping_pos|Baumbach, Strosin...|198|41.549359| -83.044403|       0|\n",
      "+----------------+-------+-------+--------------------+--------------------+----------+----------+-------------+--------------------+---+---------+-----------+--------+\n",
      "only showing top 5 rows\n",
      "\n",
      "root\n",
      " |-- cc_num: string (nullable = true)\n",
      " |-- first: string (nullable = true)\n",
      " |-- last: string (nullable = true)\n",
      " |-- trans_num: string (nullable = true)\n",
      " |-- trans_date: string (nullable = true)\n",
      " |-- trans_time: string (nullable = true)\n",
      " |-- unix_time: string (nullable = true)\n",
      " |-- category: string (nullable = true)\n",
      " |-- merchant: string (nullable = true)\n",
      " |-- amt: string (nullable = true)\n",
      " |-- merch_lat: string (nullable = true)\n",
      " |-- merch_long: string (nullable = true)\n",
      " |-- is_fraud: string (nullable = true)\n",
      "\n"
     ]
    }
   ],
   "source": [
    "transactions.show(5)  \n",
    "transactions.printSchema()  "
   ]
  },
  {
   "cell_type": "markdown",
   "metadata": {},
   "source": [
    "# Compute Age"
   ]
  },
  {
   "cell_type": "code",
   "execution_count": null,
   "metadata": {},
   "outputs": [],
   "source": [
    "\n",
    "customerAgeDF = customers.withColumn(\"age\", \n",
    "                                      (F.datediff(F.current_date(), F.to_date(customers['dob'])) / 365).cast(IntegerType()))"
   ]
  },
  {
   "cell_type": "code",
   "execution_count": 41,
   "metadata": {},
   "outputs": [
    {
     "name": "stdout",
     "output_type": "stream",
     "text": [
      "+----------------+-------+--------+------+--------------------+--------------+-----+-----+-------+---------+--------------------+--------------------+----+----+---+\n",
      "|          cc_num|  first|    last|gender|              street|          city|state|  zip|    lat|     long|                 job|                 dob|_c12|_c13|age|\n",
      "+----------------+-------+--------+------+--------------------+--------------+-----+-----+-------+---------+--------------------+--------------------+----+----+---+\n",
      "|3526015186182660|   Carl|   Gomez|     M|204 Cohen Meadow ...|Hathaway Pines|   CA|95233|38.1919|-120.3644|Data processing m...|1958-10-12T00:00:...|null|null| 66|\n",
      "|4170242670039980|Rebecca|Trujillo|     F|       242 Cody Pass|      Colstrip|   MT|59323|45.9344|-106.6368|          Air broker|1983-08-09T00:00:...|null|null| 41|\n",
      "+----------------+-------+--------+------+--------------------+--------------+-----+-----+-------+---------+--------------------+--------------------+----+----+---+\n",
      "only showing top 2 rows\n",
      "\n"
     ]
    }
   ],
   "source": [
    "customerAgeDF.show(2)"
   ]
  },
  {
   "cell_type": "markdown",
   "metadata": {},
   "source": [
    "# Compute Distance"
   ]
  },
  {
   "cell_type": "code",
   "execution_count": null,
   "metadata": {},
   "outputs": [],
   "source": [
    "def get_distance(lat1, lon1, lat2, lon2):\n",
    "    r = 6371\n",
    "    lat1, lon1, lat2, lon2 = map(math.radians, [lat1, lon1, lat2, lon2])\n",
    "    dlat = lat2 - lat1\n",
    "    dlon = lon2 - lon1\n",
    "    a = math.sin(dlat / 2)**2 + math.cos(lat1) * math.cos(lat2) * math.sin(dlon / 2)**2\n",
    "    c = 2 * math.asin(math.sqrt(a))\n",
    "    return r * c\n",
    "\n",
    "distance_udf = udf(get_distance, DoubleType())\n",
    "\n",
    "transactionDF = transactions.withColumn(\"trans_date\", split(col(\"trans_date\"), \"T\").getItem(0)) \\\n",
    "    .withColumn(\"trans_time\", concat_ws(\" \", col(\"trans_date\"), col(\"trans_time\"))) \\\n",
    "    .withColumn(\"trans_time\", to_timestamp(col(\"trans_time\"), \"yyyy-MM-dd HH:mm:ss\").cast(TimestampType()))\n"
   ]
  },
  {
   "cell_type": "code",
   "execution_count": 62,
   "metadata": {},
   "outputs": [],
   "source": [
    "customerAgeDF.write \\\n",
    "    .option(\"delimiter\", \",\") \\\n",
    "    .mode(\"overwrite\") \\\n",
    "    .csv(\"/user/markousm/customerAgeDF.csv\")\n"
   ]
  },
  {
   "cell_type": "code",
   "execution_count": 63,
   "metadata": {},
   "outputs": [],
   "source": [
    "transactionDF.write \\\n",
    "    .option(\"delimiter\", \",\") \\\n",
    "    .mode(\"overwrite\") \\\n",
    "    .csv(\"/user/markousm/transactionDF.csv\")\n"
   ]
  },
  {
   "cell_type": "code",
   "execution_count": 61,
   "metadata": {},
   "outputs": [
    {
     "name": "stdout",
     "output_type": "stream",
     "text": [
      "root\n",
      " |-- cc_num: string (nullable = true)\n",
      " |-- first: string (nullable = true)\n",
      " |-- last: string (nullable = true)\n",
      " |-- gender: string (nullable = true)\n",
      " |-- street: string (nullable = true)\n",
      " |-- city: string (nullable = true)\n",
      " |-- state: string (nullable = true)\n",
      " |-- zip: string (nullable = true)\n",
      " |-- lat: string (nullable = true)\n",
      " |-- long: string (nullable = true)\n",
      " |-- job: string (nullable = true)\n",
      " |-- dob: string (nullable = true)\n",
      " |-- _c12: string (nullable = true)\n",
      " |-- _c13: string (nullable = true)\n",
      " |-- age: integer (nullable = true)\n",
      "\n"
     ]
    }
   ],
   "source": [
    "customerAgeDF.printSchema()"
   ]
  },
  {
   "cell_type": "code",
   "execution_count": 60,
   "metadata": {},
   "outputs": [
    {
     "name": "stdout",
     "output_type": "stream",
     "text": [
      "root\n",
      " |-- cc_num: string (nullable = true)\n",
      " |-- first: string (nullable = true)\n",
      " |-- last: string (nullable = true)\n",
      " |-- trans_num: string (nullable = true)\n",
      " |-- trans_date: string (nullable = true)\n",
      " |-- trans_time: timestamp (nullable = true)\n",
      " |-- unix_time: string (nullable = true)\n",
      " |-- category: string (nullable = true)\n",
      " |-- merchant: string (nullable = true)\n",
      " |-- amt: string (nullable = true)\n",
      " |-- merch_lat: string (nullable = true)\n",
      " |-- merch_long: string (nullable = true)\n",
      " |-- is_fraud: string (nullable = true)\n",
      "\n"
     ]
    }
   ],
   "source": [
    "transactionDF.printSchema()"
   ]
  },
  {
   "cell_type": "code",
   "execution_count": 64,
   "metadata": {},
   "outputs": [],
   "source": [
    "spark.stop()"
   ]
  },
  {
   "cell_type": "code",
   "execution_count": null,
   "metadata": {},
   "outputs": [],
   "source": []
  }
 ],
 "metadata": {
  "kernelspec": {
   "display_name": "Python 3",
   "language": "python",
   "name": "python3"
  },
  "language_info": {
   "codemirror_mode": {
    "name": "ipython",
    "version": 3
   },
   "file_extension": ".py",
   "mimetype": "text/x-python",
   "name": "python",
   "nbconvert_exporter": "python",
   "pygments_lexer": "ipython3",
   "version": "3.6.5"
  }
 },
 "nbformat": 4,
 "nbformat_minor": 4
}
